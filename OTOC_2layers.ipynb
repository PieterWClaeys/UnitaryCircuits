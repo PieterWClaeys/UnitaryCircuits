{
 "cells": [
  {
   "cell_type": "markdown",
   "metadata": {},
   "source": [
    "# Move away from lightcone"
   ]
  },
  {
   "cell_type": "code",
   "execution_count": 85,
   "metadata": {},
   "outputs": [],
   "source": [
    "#%matplotlib qt5\n",
    "%matplotlib inline\n",
    "import math\n",
    "import numpy as np\n",
    "from scipy.stats import unitary_group\n",
    "from scipy.linalg import eigh\n",
    "import matplotlib.pyplot as plt\n",
    "\n",
    "plt.rcParams['figure.figsize'] = [15,10]\n",
    "np.set_printoptions(precision=4)\n"
   ]
  },
  {
   "cell_type": "code",
   "execution_count": 86,
   "metadata": {},
   "outputs": [],
   "source": [
    "#Define the unitary gate \n",
    "\n",
    "\"\"\"\n",
    "Unitaries defined as going forward in time, with U(a,b,c,d) given by\n",
    "\n",
    "-0.5 * 1j * np.exp(1j*np.pi/4.*(a-d)*(c-b))*np.exp(-1j*h_1*(a+c)/2.-1j*h_2*(b+d)/2.)\n",
    "\n",
    "where a,b,c,d \\in {1,-1} (in array-notation {1,0})\n",
    "\n",
    "a   b\n",
    "|   |\n",
    "-----\n",
    "| U |\n",
    "-----\n",
    "|   |\n",
    "c   d\n",
    "\"\"\"\n",
    "\n",
    "def dual_unitary_gate():\n",
    "    J = np.pi/4.\n",
    "    b = np.pi/4.\n",
    "    h_1 = 0.2\n",
    "    h_2 = 0.7\n",
    "    X = np.array([[0,1], [1, 0]])\n",
    "    Z = np.array([[1,0], [0, -1]])\n",
    "    X_exp = np.cos(b) * np.identity(2) - 1j * np.sin(b) * X\n",
    "    Z_1_exp = np.cos(0.5*h_1) * np.identity(2) - 1j * np.sin(0.5*h_1) * Z\n",
    "    Z_2_exp = np.cos(0.5*h_2) * np.identity(2) - 1j * np.sin(0.5*h_2) * Z\n",
    "    \n",
    "    ZZ = np.einsum(\"ac,bd->abcd\", Z, Z)\n",
    "    IdId = np.einsum(\"ac,bd->abcd\", np.identity(2), np.identity(2))\n",
    "    ZZ_exp = np.cos(J) * IdId - 1j * np.sin(J) * ZZ\n",
    "\n",
    "    K_1 = np.einsum('ab,bc,cd->ad',Z_1_exp,X_exp,Z_1_exp)\n",
    "    K_2 = np.einsum('ab,bc,cd->ad',Z_2_exp,X_exp,Z_2_exp)\n",
    "    return np.einsum(\"abcd,ce,df,efjk\", ZZ_exp, K_1, K_2, ZZ_exp)\n",
    "\n",
    "#Represent unitaries as matrices rather than tensors\n",
    "\n",
    "def tensor_to_matrix(tensor):\n",
    "    #Given tensor T_abcd...efgh... returns matrix M_{abcd..., efgh...}\n",
    "    num_row_indices = len(tensor.shape) // 2\n",
    "    q = tensor.shape[0]\n",
    "    return tensor.reshape(2 * [q ** num_row_indices])\n",
    "\n",
    "def tensor_to_vector(tensor):\n",
    "    #Given tensor T_abcd... returns vector V_{abcd...}\n",
    "    num_row_indices = len(tensor.shape) \n",
    "    q = tensor.shape[0]\n",
    "    return tensor.reshape([q ** num_row_indices])\n"
   ]
  },
  {
   "cell_type": "code",
   "execution_count": 87,
   "metadata": {},
   "outputs": [],
   "source": [
    "#Define column transfer matrix\n",
    "U = dual_unitary_gate()\n",
    "q = 2\n",
    "\n",
    "A = np.einsum('amse,bnmf,cnog,doth-> abcdefghst',np.conj(U),np.conj(U),U,U)\n",
    "T = np.einsum('abcdijklst,efghmnopts->abcdefghijklmnop',A,A) / q"
   ]
  },
  {
   "cell_type": "code",
   "execution_count": 88,
   "metadata": {},
   "outputs": [
    {
     "name": "stdout",
     "output_type": "stream",
     "text": [
      "[-7.1655e-01-9.2808e-17j -7.1655e-01+2.7756e-17j -7.1655e-01+2.7185e-17j\n",
      " -7.1655e-01-2.7701e-16j -6.0768e-01+2.6339e-16j -2.2720e-01-1.8735e-16j\n",
      " -2.2720e-01+1.8025e-17j -2.2720e-01+1.5968e-17j -2.2720e-01-3.5605e-16j\n",
      " -2.1616e-01+2.1527e-01j -2.1616e-01+2.1527e-01j -2.1616e-01-2.1527e-01j\n",
      " -2.1616e-01-2.1527e-01j -2.1616e-01-2.1527e-01j -2.1616e-01+2.1527e-01j\n",
      " -2.1616e-01-2.1527e-01j -2.1616e-01+2.1527e-01j -1.7597e-01-2.3896e-16j\n",
      " -1.7597e-01-6.0802e-16j -1.7597e-01+1.1471e-16j -1.7597e-01+3.4091e-17j\n",
      " -1.7597e-01-1.9299e-17j -1.7597e-01+2.1055e-16j -1.7597e-01-3.2743e-17j\n",
      " -1.7597e-01-8.3267e-17j -1.7597e-01+1.5927e-16j -1.7597e-01+3.0813e-16j\n",
      " -1.7597e-01+1.3010e-18j -1.7597e-01+3.9552e-16j -1.4123e-01-1.6567e-16j\n",
      " -1.4123e-01-2.0925e-16j -1.4123e-01+4.7488e-17j -1.4123e-01+4.2284e-17j\n",
      " -1.4123e-01-1.5266e-16j -1.4123e-01-4.8572e-17j -1.4123e-01+4.6838e-17j\n",
      " -1.4123e-01-6.7596e-17j -1.4123e-01-2.4300e-17j -1.4123e-01-1.5266e-16j\n",
      " -7.5753e-16+3.0721e-17j -6.7905e-16-5.6232e-16j -6.7401e-16+5.3867e-16j\n",
      " -6.4639e-16-2.3597e-17j -6.4087e-16+5.7376e-17j -5.8068e-16-2.2347e-16j\n",
      " -5.7429e-16-6.7868e-17j -5.5475e-16-1.6048e-16j -5.2433e-16+1.1362e-16j\n",
      " -4.4786e-16+2.7908e-16j -4.4135e-16-7.1822e-16j -4.3759e-16+5.8255e-17j\n",
      " -4.2930e-16-9.4521e-20j -4.1684e-16+4.4229e-16j -3.7803e-16-6.1398e-17j\n",
      " -3.7150e-16-2.6545e-16j -3.6995e-16+2.2628e-16j -3.6619e-16-1.8957e-16j\n",
      " -3.5365e-16+1.3645e-16j -3.4962e-16+3.6672e-16j -3.3172e-16+1.9229e-17j\n",
      " -3.2147e-16-3.9804e-16j -3.1759e-16-1.2055e-16j -2.9833e-16-7.6094e-17j\n",
      " -2.9253e-16+3.3364e-16j -2.8790e-16-6.3537e-16j -2.7643e-16-3.0846e-16j\n",
      " -2.6791e-16-5.3019e-16j -2.6735e-16+2.3045e-16j -2.6375e-16-2.4088e-16j\n",
      " -2.3702e-16+6.5117e-19j -2.3036e-16+2.0802e-16j -2.1502e-16+3.8725e-18j\n",
      " -1.9929e-16-7.4633e-17j -1.8069e-16+2.5498e-16j -1.7342e-16-4.0299e-16j\n",
      " -1.7299e-16-2.1516e-16j -1.7290e-16+2.5378e-17j -1.6545e-16-2.8753e-16j\n",
      " -1.6426e-16+5.5327e-16j -1.6233e-16+9.2448e-17j -1.5112e-16+4.6043e-17j\n",
      " -1.5073e-16+6.7911e-16j -1.3703e-16-1.4274e-16j -1.3672e-16-3.5469e-16j\n",
      " -1.2059e-16+2.8411e-17j -1.1891e-16-7.7286e-17j -1.1555e-16+3.5157e-16j\n",
      " -1.1136e-16+1.4617e-16j -1.0892e-16+8.0809e-17j -1.0002e-16+4.8182e-16j\n",
      " -8.2667e-17-9.0683e-17j -8.2621e-17+2.6473e-16j -8.1453e-17-1.3144e-19j\n",
      " -7.0480e-17+2.3576e-16j -6.6309e-17-1.6942e-16j -5.6333e-17-1.2785e-16j\n",
      " -4.6279e-17+2.5079e-17j -4.3261e-17-2.6455e-16j -4.0394e-17-6.1947e-16j\n",
      " -2.6411e-17-4.7453e-16j -2.5310e-17-1.7480e-16j -2.1708e-17-2.2719e-16j\n",
      " -1.8923e-17-1.3148e-17j -1.6991e-17+3.5779e-16j  2.9043e-18+5.9273e-16j\n",
      "  1.5185e-17+9.8620e-17j  1.5951e-17-5.5833e-16j  1.9213e-17+2.2657e-17j\n",
      "  1.9462e-17-3.6604e-16j  2.2783e-17+3.9303e-16j  2.3611e-17-5.2842e-17j\n",
      "  2.4532e-17+2.2430e-16j  2.8737e-17-2.4549e-16j  4.0771e-17-1.1572e-16j\n",
      "  6.1989e-17+1.6172e-16j  6.3567e-17-1.4884e-17j  6.4448e-17+4.4326e-17j\n",
      "  7.6594e-17-1.7186e-16j  8.5276e-17+9.3438e-17j  9.0701e-17-5.4424e-17j\n",
      "  9.6833e-17-2.4203e-16j  1.0180e-16-1.0826e-16j  1.0379e-16+2.9423e-16j\n",
      "  1.0603e-16-3.3763e-16j  1.3194e-16+2.1817e-16j  1.3553e-16-5.2831e-17j\n",
      "  1.5141e-16+8.0588e-17j  1.5213e-16-9.1698e-18j  1.5626e-16-4.0726e-16j\n",
      "  1.5647e-16+3.7851e-16j  1.7951e-16-1.9362e-16j  1.7981e-16-2.7813e-16j\n",
      "  1.8211e-16-9.9285e-17j  1.8757e-16+4.5799e-16j  2.0400e-16+3.1117e-16j\n",
      "  2.0413e-16+1.9196e-16j  2.0480e-16+1.3752e-16j  2.3195e-16-6.6701e-17j\n",
      "  2.4248e-16+1.6865e-16j  2.8799e-16+5.1381e-17j  2.9183e-16-1.0127e-16j\n",
      "  2.9666e-16-6.6639e-16j  3.0140e-16-8.0172e-16j  3.2996e-16+1.7284e-16j\n",
      "  3.3302e-16-3.2232e-16j  3.3976e-16-1.1800e-16j  3.5103e-16+5.8169e-16j\n",
      "  3.6074e-16-1.7154e-16j  3.7836e-16+4.0907e-17j  3.9622e-16+2.5980e-16j\n",
      "  4.0686e-16-4.5385e-16j  4.2102e-16-1.8014e-16j  4.3617e-16+8.6168e-17j\n",
      "  5.0946e-16+5.1471e-16j  5.2466e-16-2.3238e-17j  5.4897e-16-1.2714e-16j\n",
      "  6.1229e-16-1.9933e-16j  6.1321e-16+1.8465e-16j  6.6431e-16-3.8113e-16j\n",
      "  6.7303e-16+5.2038e-16j  6.7963e-16+9.1917e-17j  6.8159e-16+1.0748e-15j\n",
      "  7.3034e-16-1.5379e-16j  8.0357e-16+4.1630e-16j  8.1911e-16+1.1096e-16j\n",
      "  1.1316e-15-7.9567e-16j  1.3655e-15+2.8094e-16j  7.6199e-02+1.6212e-01j\n",
      "  7.6199e-02-1.6212e-01j  7.6199e-02+1.6212e-01j  7.6199e-02+1.6212e-01j\n",
      "  7.6199e-02+1.6212e-01j  7.6199e-02-1.6212e-01j  7.6199e-02-1.6212e-01j\n",
      "  7.6199e-02-1.6212e-01j  1.4930e-01-1.7126e-01j  1.4930e-01+1.7126e-01j\n",
      "  1.4930e-01+1.7126e-01j  1.4930e-01-1.7126e-01j  2.0585e-01+1.1000e-01j\n",
      "  2.0585e-01-1.1000e-01j  3.8640e-01+2.1684e-18j  3.8640e-01-7.1002e-17j\n",
      "  3.8640e-01+6.6353e-17j  3.8640e-01-7.0907e-17j  3.8640e-01+1.5287e-16j\n",
      "  3.8640e-01+2.8284e-17j  3.8640e-01+3.6890e-17j  3.8640e-01+9.8333e-17j\n",
      "  3.8640e-01+2.4897e-17j  3.8640e-01+9.7145e-17j  3.8640e-01+3.8748e-31j\n",
      "  3.8640e-01+4.0766e-16j  3.8640e-01-7.3214e-17j  3.8640e-01+2.0470e-16j\n",
      "  3.8640e-01+8.7549e-17j  3.8640e-01-4.1633e-17j  3.8640e-01-7.9533e-17j\n",
      "  3.8640e-01+1.1102e-16j  3.8640e-01+2.7756e-17j  3.8640e-01+3.3068e-17j\n",
      "  3.8640e-01+1.5526e-16j  3.8640e-01-6.2884e-17j  3.8640e-01+8.6109e-18j\n",
      "  3.8640e-01+7.2709e-17j  4.8752e-01+5.8981e-17j  4.8752e-01+5.8547e-18j\n",
      "  4.8752e-01+1.3878e-17j  4.8752e-01-7.5894e-17j  5.3014e-01-3.0502e-17j\n",
      "  5.3014e-01+5.0623e-17j  5.3014e-01-2.0586e-16j  5.3014e-01-7.9455e-17j\n",
      "  6.2161e-01-2.9614e-16j  6.2161e-01-1.6480e-17j  6.2161e-01+1.6306e-16j\n",
      "  6.2161e-01-1.2106e-16j  6.2161e-01-2.9014e-17j  6.2161e-01+3.3886e-17j\n",
      "  6.2161e-01-2.1005e-17j  6.2161e-01-3.3371e-17j  6.2161e-01+5.3458e-17j\n",
      "  6.2161e-01-3.7990e-16j  6.2161e-01-1.4237e-16j  6.2161e-01+2.9665e-17j\n",
      "  6.2161e-01-8.3998e-17j  6.2161e-01-1.0397e-16j  6.2161e-01-2.1285e-17j\n",
      "  6.2161e-01+1.6691e-16j  6.2161e-01-7.0473e-18j  6.2161e-01+2.4286e-16j\n",
      "  6.2161e-01-4.5212e-17j  6.2161e-01-3.7470e-16j  6.2161e-01-4.1633e-17j\n",
      "  6.2161e-01-8.3267e-17j  6.2161e-01+4.1633e-17j  6.2161e-01-2.1684e-18j\n",
      "  6.2161e-01-9.3675e-17j  8.0256e-01-1.1555e-16j  8.0256e-01+5.6461e-16j\n",
      "  8.0256e-01-8.9338e-17j  8.0256e-01+1.6754e-17j  8.0256e-01+5.2895e-17j\n",
      "  8.0256e-01-1.1103e-16j  8.0256e-01-6.7696e-17j  8.0256e-01+5.5511e-17j\n",
      "  8.0256e-01+5.0204e-17j  8.0256e-01+1.1449e-16j  8.0256e-01+2.8536e-16j\n",
      "  8.0256e-01+3.1835e-17j  8.6925e-01-1.9906e-17j  1.0000e+00-1.0425e-16j\n",
      "  1.0000e+00-5.1368e-17j  1.0000e+00-2.2056e-17j  1.0000e+00-1.4229e-17j\n",
      "  1.0000e+00+5.8981e-17j]\n"
     ]
    }
   ],
   "source": [
    "#Check eigenvalues\n",
    "T_mat = tensor_to_matrix(T)\n",
    "[eig_vals,eig_vecs] = np.linalg.eig(T_mat)\n",
    "print(np.sort(eig_vals))"
   ]
  },
  {
   "cell_type": "code",
   "execution_count": 89,
   "metadata": {},
   "outputs": [],
   "source": [
    "Id = np.array([[1,0], [0,1]])\n",
    "X = np.array([[0,1], [1, 0]])\n",
    "Z = np.array([[1,0], [0, -1]])\n",
    "\n",
    "\n",
    "def right_boundary(op):\n",
    "    return np.einsum('ha,gb,cf,de->abcdefgh',op,Id,Id,op)\n",
    "\n",
    "def left_boundary(op):\n",
    "    return np.einsum('ad,bc,eh,fg->abcdefgh',Id,op,Id,op)\n",
    "\n",
    "\n",
    "def contract_mv(mat,vec):\n",
    "    return np.einsum('abcdefghijklmnop,ijklmnop->abcdefgh',mat,vec)\n",
    "\n",
    "def contract_vv(vec_1,vec_2):\n",
    "    return np.einsum('abcdefgh,abcdefgh',vec_1,vec_2)\n",
    "\n",
    "def evol_2(U, op_L, op_R, n_t):\n",
    "    t_range = np.arange(n_t)\n",
    "    OTOC_range = np.zeros(n_t,dtype=complex)\n",
    "    \n",
    "    q = 2\n",
    "\n",
    "    A = np.einsum('amse,bnmf,cnog,doth-> abcdefghst',np.conj(U),np.conj(U),U,U)\n",
    "    T = np.einsum('abcdijklst,efghmnopts->abcdefghijklmnop',A,A) / q\n",
    "    \n",
    "    R = right_boundary(op_R)\n",
    "    L = left_boundary(op_L)\n",
    "    \n",
    "    vec_t = R\n",
    "    for t_i in t_range:\n",
    "        OTOC_range[t_i] = 1. - contract_vv(L,vec_t) / q**2\n",
    "        print(OTOC_range[t_i])\n",
    "        vec_new  = contract_mv(T,vec_t)\n",
    "        vec_t = vec_new\n",
    "    return [t_range,OTOC_range]\n",
    "\n",
    "#print(contract_vv(left_boundary(Id),right_boundary(Id))/ q**2) "
   ]
  },
  {
   "cell_type": "code",
   "execution_count": 119,
   "metadata": {},
   "outputs": [
    {
     "name": "stdout",
     "output_type": "stream",
     "text": [
      "0j\n",
      "(1.2272020946930875+2.6291902682773483e-17j)\n",
      "(0.9483792081670733+4.4107782167319275e-18j)\n",
      "(1.0117283520341567-6.1133990221153756e-18j)\n",
      "(0.9973352938505418-1.0317928064029237e-17j)\n",
      "(1.0006054268188986-1.0298048428743501e-17j)\n",
      "(0.9998624457585629-1.0694228000323467e-17j)\n",
      "(1.0000312526117883-1.0969604168361818e-17j)\n",
      "(0.9999928993411369-1.1328114996636643e-17j)\n",
      "(1.0000016132845675-1.167766477675804e-17j)\n",
      "(0.9999996334583668-1.2031171007427796e-17j)\n",
      "(1.0000000832790268-1.238342338884037e-17j)\n",
      "(0.9999999810788307-1.273585002892891e-17j)\n",
      "(1.0000000042989292-1.308820089580481e-17j)\n",
      "(0.9999999990232742-1.3440568763118293e-17j)\n",
      "(1.000000000221914-1.3792933462896964e-17j)\n",
      "(0.9999999999495806-1.414529935282578e-17j)\n",
      "(1.0000000000114553-1.4497665019746775e-17j)\n",
      "(0.9999999999973971-1.485003074020175e-17j)\n",
      "(1.000000000000591-1.520239644394931e-17j)\n",
      "(0.9999999999998656-1.5554762150659007e-17j)\n",
      "(1.0000000000000304-1.5907127856528776e-17j)\n",
      "(0.9999999999999928-1.6259493562617256e-17j)\n",
      "(1.0000000000000013-1.661185926866508e-17j)\n",
      "(0.9999999999999996-1.6964224974725266e-17j)\n"
     ]
    },
    {
     "data": {
      "image/png": "[encoded data removed]",
      "text/plain": [
       "<Figure size 1080x720 with 1 Axes>"
      ]
     },
     "metadata": {
      "needs_background": "light"
     },
     "output_type": "display_data"
    }
   ],
   "source": [
    "n_t = 25\n",
    "plt.figure()\n",
    "[t_range, OTOC_range] = evol_2(U, Z, Z, n_t)\n",
    "plt.plot(t_range,OTOC_range.real,'rx-')\n",
    "plt.show()"
   ]
  },
  {
   "cell_type": "code",
   "execution_count": 115,
   "metadata": {},
   "outputs": [
    {
     "name": "stdout",
     "output_type": "stream",
     "text": [
      "(0.9999999999998651-1.555476215065901e-17j)\n",
      "Check hermiticity\n",
      "9.130186458058164\n",
      "Steady-state value of the OTOC: (0.9458400269241354-0.023526371180946568j)\n"
     ]
    }
   ],
   "source": [
    "op_R = Z\n",
    "op_L = Z\n",
    "\n",
    "mat_T = tensor_to_matrix(T)\n",
    "vec_R = tensor_to_vector(right_boundary(op_R))\n",
    "vec_L = tensor_to_vector(left_boundary(op_L))\n",
    "n = 20\n",
    "print(1. - vec_L.dot(np.linalg.matrix_power(mat_T, n)).dot(vec_R)/q**2)\n",
    "\n",
    "[E_t,V_t] = np.linalg.eig(mat_T)\n",
    "\n",
    "print(\"Check hermiticity\")\n",
    "print(np.linalg.norm(mat_T-np.conj(mat_T.T)))\n",
    "\n",
    "OTOC_ss = 1. - np.sum([vec_L.dot(np.conj(V_t[n_i])) * vec_R.dot(V_t[n_i]) for n_i,e_i in enumerate(E_t) if np.abs(e_i-1.) < 1e-8]) / q**2\n",
    "print(\"Steady-state value of the OTOC:\", OTOC_ss)\n",
    "\n",
    "ov_mat = np.array([[np.conj(V_t[n_i]).dot(V_t[n_j]) for n_i,e_i in enumerate(E_t) if np.abs(e_i-1.) < 1e-8] for n_j,e_j in enumerate(E_t) if np.abs(e_j-1.) < 1e-8])"
   ]
  },
  {
   "cell_type": "code",
   "execution_count": null,
   "metadata": {},
   "outputs": [],
   "source": []
  },
  {
   "cell_type": "code",
   "execution_count": null,
   "metadata": {},
   "outputs": [],
   "source": []
  },
  {
   "cell_type": "code",
   "execution_count": null,
   "metadata": {},
   "outputs": [],
   "source": []
  }
 ],
 "metadata": {
  "kernelspec": {
   "display_name": "Python 3",
   "language": "python",
   "name": "python3"
  },
  "language_info": {
   "codemirror_mode": {
    "name": "ipython",
    "version": 3
   },
   "file_extension": ".py",
   "mimetype": "text/x-python",
   "name": "python",
   "nbconvert_exporter": "python",
   "pygments_lexer": "ipython3",
   "version": "3.7.3"
  }
 },
 "nbformat": 4,
 "nbformat_minor": 2
}
