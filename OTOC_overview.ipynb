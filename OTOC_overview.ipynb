{
 "cells": [
  {
   "cell_type": "code",
   "execution_count": 9,
   "metadata": {},
   "outputs": [],
   "source": [
    "#%matplotlib qt5\n",
    "%matplotlib inline\n",
    "import math\n",
    "import numpy as np\n",
    "from scipy.stats import unitary_group\n",
    "from scipy.linalg import eigh\n",
    "import matplotlib.pyplot as plt\n",
    "\n",
    "plt.rcParams['figure.figsize'] = [15,10]\n",
    "np.set_printoptions(precision=4)\n"
   ]
  },
  {
   "cell_type": "markdown",
   "metadata": {},
   "source": [
    "Check the time evolution of OTOC's on the light-cone for evolution using dual-unitary circuits.\n",
    "\n"
   ]
  },
  {
   "cell_type": "code",
   "execution_count": 2,
   "metadata": {},
   "outputs": [],
   "source": [
    "#Define the unitary gate \n",
    "\n",
    "\"\"\"\n",
    "Unitaries defined as going forward in time, with U(a,b,c,d) given by\n",
    "\n",
    "-0.5 * 1j * np.exp(1j*np.pi/4.*(a-d)*(c-b))*np.exp(-1j*h_1*(a+c)/2.-1j*h_2*(b+d)/2.)\n",
    "\n",
    "where a,b,c,d \\in {1,-1} (in array-notation {1,0})\n",
    "\n",
    "a   b\n",
    "|   |\n",
    "-----\n",
    "| U |\n",
    "-----\n",
    "|   |\n",
    "c   d\n",
    "\"\"\"\n",
    "\n",
    "def dual_unitary_gate():\n",
    "    J = np.pi/4.\n",
    "    b = np.pi/4.\n",
    "    h_1 = 0.2\n",
    "    h_2 = 0.7\n",
    "    X = np.array([[0,1], [1, 0]])\n",
    "    Z = np.array([[1,0], [0, -1]])\n",
    "    X_exp = np.cos(b) * np.identity(2) - 1j * np.sin(b) * X\n",
    "    Z_1_exp = np.cos(0.5*h_1) * np.identity(2) - 1j * np.sin(0.5*h_1) * Z\n",
    "    Z_2_exp = np.cos(0.5*h_2) * np.identity(2) - 1j * np.sin(0.5*h_2) * Z\n",
    "    \n",
    "    ZZ = np.einsum(\"ac,bd->abcd\", Z, Z)\n",
    "    IdId = np.einsum(\"ac,bd->abcd\", np.identity(2), np.identity(2))\n",
    "    ZZ_exp = np.cos(J) * IdId - 1j * np.sin(J) * ZZ\n",
    "\n",
    "    K_1 = np.einsum('ab,bc,cd->ad',Z_1_exp,X_exp,Z_1_exp)\n",
    "    K_2 = np.einsum('ab,bc,cd->ad',Z_2_exp,X_exp,Z_2_exp)\n",
    "    return np.einsum(\"abcd,ce,df,efjk\", ZZ_exp, K_1, K_2, ZZ_exp)\n"
   ]
  },
  {
   "cell_type": "code",
   "execution_count": 3,
   "metadata": {},
   "outputs": [
    {
     "name": "stdout",
     "output_type": "stream",
     "text": [
      "Shape of U: (2, 2, 2, 2)\n",
      "Check unitarity: U * U^{\\dag}-1 =  4.496917212498577e-16\n",
      "Check unitarity: U^{\\dag} * U-1 =  4.560706458366088e-16\n",
      "Check dual unitarity: tilde{U} * tilde{U}^{\\dag} - 1 =  8.708795623389571e-16\n",
      "Check dual unitarity: tilde{U}^{\\dag} * tilde{U} - 1 =  8.113463224736753e-16\n"
     ]
    }
   ],
   "source": [
    "#Verify unitarity and dual unitarity\n",
    "U = dual_unitary_gate()\n",
    "q = 2\n",
    "IdId = np.einsum(\"ac,bd->abcd\", np.identity(q), np.identity(q))\n",
    "\n",
    "print(\"Shape of U:\", U.shape) #In love with the shape of U\n",
    "\n",
    "#Check unitarity of U\n",
    "print(\"Check unitarity: U * U^{\\dag}-1 = \", np.linalg.norm(np.einsum('abcd,efcd -> abef', U, np.conj(U))-IdId))\n",
    "print(\"Check unitarity: U^{\\dag} * U-1 = \", np.linalg.norm(np.einsum('cdab,cdef -> abef', np.conj(U), U)-IdId))\n",
    "\n",
    "#Check dual unitarity of U\n",
    "print(\"Check dual unitarity: tilde{U} * tilde{U}^{\\dag} - 1 = \",\n",
    "      np.linalg.norm(np.einsum('fbea,fdec->abcd',np.conj(U),U)-IdId))\n",
    "print(\"Check dual unitarity: tilde{U}^{\\dag} * tilde{U} - 1 = \",\n",
    "      np.linalg.norm(np.einsum('bfae,dfce->abcd',np.conj(U),U)-IdId))"
   ]
  },
  {
   "cell_type": "code",
   "execution_count": 4,
   "metadata": {},
   "outputs": [],
   "source": [
    "#Represent unitaries as matrices rather than tensors\n",
    "\n",
    "def tensor_to_matrix(tensor):\n",
    "    #Given tensor T_abcd...efgh... returns matrix M_{abcd..., efgh...}\n",
    "    num_row_indices = len(tensor.shape) // 2\n",
    "    q = tensor.shape[0]\n",
    "    return tensor.reshape(2 * [q ** num_row_indices])\n"
   ]
  },
  {
   "cell_type": "markdown",
   "metadata": {},
   "source": [
    "On the light-cone the OTOC can be expressed as \n",
    "\n",
    "\\begin{equation}\n",
    "1 - \\mathrm{Tr} \\left[ a_x^{\\alpha} U^{\\dagger} a_y^{\\beta} U a_x^{\\alpha} U^{\\dagger} a_y^{\\beta} U \\right] / \\mathrm{Tr}\\left[1\\right] = 1 - \\frac{1}{q}\\left \\langle  L  \\vert T^t\\vert R\\right \\rangle\n",
    "\\end{equation}\n",
    "\n",
    "with $T$ the column transfer matrix and $|R\\rangle$ and $\\langle L |$ boundary conditions depending on both the (parity of the) position and the type of operator $\\alpha, \\beta$.\n"
   ]
  },
  {
   "cell_type": "code",
   "execution_count": 5,
   "metadata": {},
   "outputs": [],
   "source": [
    "def col_transfer_mat(U):\n",
    "    #Construct column transfer matrix given a unitary\n",
    "    return np.einsum('amqe,bmnf,cpnj,dpqk->abcdefjk',np.conj(U),U,np.conj(U),U) / q\n",
    "\n",
    "def right_boundary(op):\n",
    "    return np.einsum('ad,bc->abcd',op,op)\n",
    "\n",
    "def left_boundary(op):\n",
    "    return np.einsum('ab,cd->abcd',op,op)\n",
    "\n",
    "def contract_mv(mat,vec):\n",
    "    return np.einsum('abcdefgh,efgh -> abcd',mat,vec)\n",
    "\n",
    "def contract_vv(vec_1,vec_2):\n",
    "    return np.einsum('abcd,abcd',vec_1,vec_2)"
   ]
  },
  {
   "cell_type": "markdown",
   "metadata": {},
   "source": [
    "We can explicitly check the time evolution for $\\sigma_x$ and $\\sigma_z$ ($\\sigma_y$ is als possible, but requires me to be more careful with complex conjugation).\n"
   ]
  },
  {
   "cell_type": "code",
   "execution_count": 19,
   "metadata": {},
   "outputs": [],
   "source": [
    "T = col_transfer_mat(U)\n",
    "\n",
    "Id = np.array([[1,0],[0,1]])\n",
    "X = np.array([[0,1], [1, 0]])\n",
    "Z = np.array([[1,0], [0, -1]])\n",
    "\n",
    "t_range = np.arange(10)\n",
    "\n",
    "R_Id = right_boundary(Id)\n",
    "L_Id = left_boundary(Id)\n",
    "\n",
    "def evol(U, op_L, op_R, n_t):\n",
    "    t_range = np.arange(n_t)\n",
    "    OTOC_range = np.zeros(n_t,dtype=complex)\n",
    "    \n",
    "    T = col_transfer_mat(U)\n",
    "    R = right_boundary(op_R)\n",
    "    L = left_boundary(op_L)\n",
    "    \n",
    "    vec_t = R\n",
    "    for t_i in t_range:\n",
    "        OTOC_range[t_i] = 1. - contract_vv(L,vec_t) / q\n",
    "        vec_new  = contract_mv(T,vec_t)\n",
    "        vec_t = vec_new\n",
    "    return [t_range,OTOC_range]"
   ]
  },
  {
   "cell_type": "code",
   "execution_count": 20,
   "metadata": {},
   "outputs": [
    {
     "data": {
      "image/png": "[encoded data removed]",
      "text/plain": [
       "<Figure size 1080x720 with 1 Axes>"
      ]
     },
     "metadata": {
      "needs_background": "light"
     },
     "output_type": "display_data"
    }
   ],
   "source": [
    "n_t = 10\n",
    "plt.figure()\n",
    "[t_range, OTOC_range] = evol(U, X, X, n_t)\n",
    "plt.plot(t_range,OTOC_range.real,'x',label=r'$xx$')\n",
    "plt.legend()\n",
    "plt.show()"
   ]
  },
  {
   "cell_type": "markdown",
   "metadata": {},
   "source": [
    "The long-time behaviour is fully determined by the eigenvectors with unit eigenvalue, and three of these can be explicitly constructed (representing unitarity, dual-unitarity, and an additional restriction similar to the action on a product state)."
   ]
  },
  {
   "cell_type": "code",
   "execution_count": 11,
   "metadata": {},
   "outputs": [
    {
     "name": "stdout",
     "output_type": "stream",
     "text": [
      "Eigenvalues of T: \n",
      " [-2.2720e-01+1.2378e-16j -2.4794e-16+3.2223e-17j -1.9818e-16-5.9063e-18j\n",
      " -1.0325e-16+5.7323e-17j -2.8653e-17+1.2145e-16j -2.7643e-32-8.6736e-19j\n",
      "  2.5653e-17-1.0689e-16j  1.3358e-16+7.9916e-17j  7.6608e-16-4.0535e-16j\n",
      "  6.2161e-01+1.8178e-17j  6.2161e-01-4.3507e-17j  6.2161e-01-2.1208e-17j\n",
      "  6.2161e-01+6.5371e-17j  1.0000e+00-6.0715e-18j  1.0000e+00+5.7707e-17j\n",
      "  1.0000e+00-1.9912e-17j]\n",
      "\n",
      "Check known eigenstates\n",
      "\n",
      " || (T-1) | e_i > || =  3.5219829497116673e-16\n",
      " || (T-1) | e_i > || =  2.1779241885078057e-16\n",
      " || (T-1) | e_i > || =  3.4053537421240315e-16\n",
      "\n",
      "Check orthonormality\n",
      "\n",
      "[[1.0000e+00+1.3010e-18j 5.5511e-17-7.0108e-18j 8.3267e-17+2.3016e-18j]\n",
      " [5.5511e-17-7.0108e-18j 1.0000e+00-1.0842e-17j 1.6653e-16-1.3800e-17j]\n",
      " [8.3267e-17+2.3016e-18j 1.6653e-16-1.3800e-17j 1.0000e+00-6.9389e-18j]]\n"
     ]
    }
   ],
   "source": [
    "[E,_] = np.linalg.eig(tensor_to_matrix(T))\n",
    "print(\"Eigenvalues of T: \\n\", np.sort(E))\n",
    "\n",
    "\n",
    "#Check eigenstates\n",
    "print(\"\\nCheck known eigenstates\\n\")\n",
    "e_1 = 1./q * np.einsum('abcdeffe->abcd',T)\n",
    "#print(\"<e_1 | e_1>\")\n",
    "#print(np.linalg.norm(np.einsum('abcdefgh,efgh -> abcd',T,e_1)-e_1))\n",
    "\n",
    "e_2 = 1./np.sqrt(q**2-1.)* ( np.einsum('abcdeeff->abcd',T) - 1./q * np.einsum('abcdeffe->abcd',T))\n",
    "#print('T |e_2> - |e_2>')\n",
    "#print(np.linalg.norm(np.einsum('abcdefgh,efgh -> abcd',T,e_2)-e_2))\n",
    "\n",
    "e_3 = (np.einsum('abcdeeee -> abcd',T) - e_1 - np.sqrt((q-1.)/(q+1.)) * e_2) * np.sqrt((q+1)/(q-1)) / np.sqrt(q)\n",
    "#print('T |e_3> - |e_3>')\n",
    "#print(np.linalg.norm(np.einsum('abcdefgh,efgh -> abcd',T,e_3)-e_3))\n",
    "\n",
    "eig_vecs = [e_1,e_2,e_3]\n",
    "\n",
    "for eig_vec in eig_vecs:\n",
    "    print(\" || (T-1) | e_i > || = \", np.linalg.norm(contract_mv(T,eig_vec)-eig_vec))\n",
    "\n",
    "#Check orthonormality\n",
    "ov = np.zeros([3,3], dtype=complex)\n",
    "for i, vec_i in enumerate(eig_vecs):\n",
    "    for j, vec_j in enumerate(eig_vecs):\n",
    "        ov[i,j] = contract_vv(vec_i,vec_j)\n",
    "        \n",
    "print(\"\\nCheck orthonormality\\n\")\n",
    "print(ov)"
   ]
  },
  {
   "cell_type": "code",
   "execution_count": 28,
   "metadata": {},
   "outputs": [
    {
     "data": {
      "image/png": "[encoded data removed]",
      "text/plain": [
       "<Figure size 1080x720 with 1 Axes>"
      ]
     },
     "metadata": {
      "needs_background": "light"
     },
     "output_type": "display_data"
    }
   ],
   "source": [
    "op_L, op_R = X, X\n",
    "n_t = 10\n",
    "\n",
    "[t_range, OTOC_range] = evol(U, op_L, op_R, n_t)\n",
    "OTOC_f = 1. - np.sum([contract_vv(left_boundary(op_L),eig_vec)*contract_vv(eig_vec,right_boundary(op_R)) for eig_vec in eig_vecs])/q\n",
    "\n",
    "plt.figure()\n",
    "plt.plot(t_range,OTOC_range.real,'rx-')\n",
    "plt.plot(t_range,[OTOC_f.real]*n_t,'k--')\n",
    "plt.show()"
   ]
  },
  {
   "cell_type": "markdown",
   "metadata": {},
   "source": [
    "The final values can be explicitly calculated as 1 for xx, 0 for zz, and 2 for zx. The only non-trivial behaviour seems to be for xx. "
   ]
  },
  {
   "cell_type": "code",
   "execution_count": null,
   "metadata": {},
   "outputs": [],
   "source": []
  },
  {
   "cell_type": "code",
   "execution_count": null,
   "metadata": {},
   "outputs": [],
   "source": []
  }
 ],
 "metadata": {
  "kernelspec": {
   "display_name": "Python 3",
   "language": "python",
   "name": "python3"
  },
  "language_info": {
   "codemirror_mode": {
    "name": "ipython",
    "version": 3
   },
   "file_extension": ".py",
   "mimetype": "text/x-python",
   "name": "python",
   "nbconvert_exporter": "python",
   "pygments_lexer": "ipython3",
   "version": "3.7.3"
  }
 },
 "nbformat": 4,
 "nbformat_minor": 2
}
