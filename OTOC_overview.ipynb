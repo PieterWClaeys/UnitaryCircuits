{
 "cells": [
  {
   "cell_type": "code",
   "execution_count": 11,
   "metadata": {},
   "outputs": [],
   "source": [
    "%matplotlib inline\n",
    "import math\n",
    "import numpy as np\n",
    "from scipy.stats import unitary_group\n",
    "from scipy.linalg import eigh, expm\n",
    "import matplotlib.pyplot as plt\n",
    "\n",
    "plt.rcParams['figure.figsize'] = [15,10]\n",
    "np.set_printoptions(precision=4)\n"
   ]
  },
  {
   "cell_type": "markdown",
   "metadata": {},
   "source": [
    "Check the time evolution of OTOC's on the light-cone for evolution using dual-unitary circuits.\n",
    "\n"
   ]
  },
  {
   "cell_type": "code",
   "execution_count": 2,
   "metadata": {},
   "outputs": [],
   "source": [
    "#Define the unitary gate \n",
    "\n",
    "\"\"\"\n",
    "Unitaries defined as going forward in time, with U(a,b,c,d) given by\n",
    "\n",
    "-0.5 * 1j * np.exp(1j*np.pi/4.*(a-d)*(c-b))*np.exp(-1j*h_1*(a+c)/2.-1j*h_2*(b+d)/2.)\n",
    "\n",
    "where a,b,c,d \\in {1,-1} (in array-notation {1,0})\n",
    "\n",
    "a   b\n",
    "|   |\n",
    "-----\n",
    "| U |\n",
    "-----\n",
    "|   |\n",
    "c   d\n",
    "\"\"\"\n",
    "\n",
    "def gate_KIM():\n",
    "    J = np.pi/4.\n",
    "    b = np.pi/4.\n",
    "    h_1 = 0.3 #np.random.rand()\n",
    "    h_2 = 0.5 #np.random.rand()\n",
    "    X = np.array([[0,1], [1, 0]])\n",
    "    Z = np.array([[1,0], [0, -1]])\n",
    "    X_exp = np.cos(b) * np.identity(2) - 1j * np.sin(b) * X\n",
    "    Z_1_exp = np.cos(0.5*h_1) * np.identity(2) - 1j * np.sin(0.5*h_1) * Z\n",
    "    Z_2_exp = np.cos(0.5*h_2) * np.identity(2) - 1j * np.sin(0.5*h_2) * Z\n",
    "    \n",
    "    ZZ = np.einsum(\"ac,bd->abcd\", Z, Z)\n",
    "    IdId = np.einsum(\"ac,bd->abcd\", np.identity(2), np.identity(2))\n",
    "    ZZ_exp = np.cos(J) * IdId - 1j * np.sin(J) * ZZ\n",
    "\n",
    "    K_1 = np.einsum('ab,bc,cd->ad',Z_1_exp,X_exp,Z_1_exp)\n",
    "    K_2 = np.einsum('ab,bc,cd->ad',Z_2_exp,X_exp,Z_2_exp)\n",
    "    return np.einsum(\"abcd,ce,df,efjk\", ZZ_exp, K_1, K_2, ZZ_exp)\n"
   ]
  },
  {
   "cell_type": "code",
   "execution_count": 3,
   "metadata": {},
   "outputs": [],
   "source": [
    "#Define general dual-unitary gates\n",
    "\n",
    "def dual_unitary_gate(J, phi):\n",
    "    Id = np.array([[1,0],[0,1]])\n",
    "    X = np.array([[0,1], [1, 0]])\n",
    "    Y = np.array([[0, -1j], [1j, 0]])\n",
    "    Z = np.array([[1,0], [0, -1]])\n",
    "\n",
    "    sigma = [X,Y,Z]\n",
    "\n",
    "    M = 0.25*np.pi*(np.einsum('ac,bd->abcd', X, X)+np.einsum('ac,bd->abcd', Y, Y))-J*np.einsum('ac,bd->abcd', Z, Z)\n",
    "    V = (expm(-1j*M.reshape(4,4))).reshape([2,2,2,2])\n",
    "    \n",
    "    #Add random SU(2) element to each leg\n",
    "    n_u_p = np.random.rand(3)\n",
    "    n_u_p = n_u_p/(np.linalg.norm(n_u_p))\n",
    "    theta_u_p = np.random.rand()\n",
    "    \n",
    "    n_u_m = np.random.rand(3)\n",
    "    n_u_m = n_u_m/(np.linalg.norm(n_u_m))\n",
    "    theta_u_m = np.random.rand()\n",
    "    \n",
    "    n_v_p = np.random.rand(3)\n",
    "    n_v_p = n_v_p/(np.linalg.norm(n_v_p))\n",
    "    theta_v_p = np.random.rand()\n",
    "    \n",
    "    \n",
    "    n_v_m = np.random.rand(3)\n",
    "    n_v_m = n_v_m/(np.linalg.norm(n_v_m))\n",
    "    theta_v_m = np.random.rand()\n",
    "    \n",
    "    \n",
    "    u_plus = np.cos(theta_u_p) * Id + 1j*np.sin(theta_u_p) * np.sum([n_u_p[i]*sigma[i] for i in range(3)],axis=0)\n",
    "    u_min = np.cos(theta_u_m) * Id + 1j*np.sin(theta_u_m) * np.sum([n_u_m[i]*sigma[i] for i in range(3)],axis=0)\n",
    "    v_plus = np.cos(theta_v_p) * Id + 1j*np.sin(theta_v_p) * np.sum([n_v_p[i]*sigma[i] for i in range(3)],axis=0)\n",
    "    v_min = np.cos(theta_v_m) * Id + 1j*np.sin(theta_v_m) * np.sum([n_v_m[i]*sigma[i] for i in range(3)],axis=0)\n",
    "    \n",
    "    U = np.exp(1j*phi) * np.einsum( 'ac,bd,cdef,eg,fh-> abgh' ,u_plus, u_min, V, v_plus, v_min)\n",
    "    return(U)\n"
   ]
  },
  {
   "cell_type": "code",
   "execution_count": 4,
   "metadata": {},
   "outputs": [
    {
     "name": "stdout",
     "output_type": "stream",
     "text": [
      "Shape of U: (2, 2, 2, 2)\n",
      "Check unitarity: U * U^{\\dag}-1 =  4.861436807165333e-16\n",
      "Check unitarity: U^{\\dag} * U-1 =  5.669547669066992e-16\n",
      "Check dual unitarity: tilde{U} * tilde{U}^{\\dag} - 1 =  4.956150813013697e-16\n",
      "Check dual unitarity: tilde{U}^{\\dag} * tilde{U} - 1 =  5.356897998970095e-16\n"
     ]
    }
   ],
   "source": [
    "#Verify unitarity and dual unitarity\n",
    "\n",
    "#U = gate_KIM()\n",
    "U = dual_unitary_gate(2.,0.)\n",
    "\n",
    "q = U.shape[0]\n",
    "\n",
    "IdId = np.einsum(\"ac,bd->abcd\", np.identity(q), np.identity(q))\n",
    "\n",
    "print(\"Shape of U:\", U.shape) #In love with the shape of U\n",
    "\n",
    "#Check unitarity of U\n",
    "print(\"Check unitarity: U * U^{\\dag}-1 = \", np.linalg.norm(np.einsum('abcd,efcd -> abef', U, np.conj(U))-IdId))\n",
    "print(\"Check unitarity: U^{\\dag} * U-1 = \", np.linalg.norm(np.einsum('cdab,cdef -> abef', np.conj(U), U)-IdId))\n",
    "\n",
    "#Check dual unitarity of U\n",
    "print(\"Check dual unitarity: tilde{U} * tilde{U}^{\\dag} - 1 = \",\n",
    "      np.linalg.norm(np.einsum('fbea,fdec->abcd',np.conj(U),U)-IdId))\n",
    "print(\"Check dual unitarity: tilde{U}^{\\dag} * tilde{U} - 1 = \",\n",
    "      np.linalg.norm(np.einsum('bfae,dfce->abcd',np.conj(U),U)-IdId))"
   ]
  },
  {
   "cell_type": "code",
   "execution_count": 5,
   "metadata": {},
   "outputs": [],
   "source": [
    "#Represent unitaries as matrices rather than tensors\n",
    "\n",
    "def tensor_to_matrix(tensor):\n",
    "    #Given tensor T_abcd...efgh... returns matrix M_{abcd..., efgh...}\n",
    "    num_row_indices = len(tensor.shape) // 2\n",
    "    q = tensor.shape[0]\n",
    "    return tensor.reshape(2 * [q ** num_row_indices])\n"
   ]
  },
  {
   "cell_type": "markdown",
   "metadata": {},
   "source": [
    "On the light-cone the OTOC can be expressed as \n",
    "\n",
    "\\begin{equation}\n",
    "1 - \\mathrm{Tr} \\left[ a_x^{\\alpha} U^{\\dagger} a_y^{\\beta} U a_x^{\\alpha} U^{\\dagger} a_y^{\\beta} U \\right] / \\mathrm{Tr}\\left[1\\right] = 1 - \\frac{1}{q}\\left \\langle  L  \\vert T^t\\vert R\\right \\rangle\n",
    "\\end{equation}\n",
    "\n",
    "with $T$ the column transfer matrix and $|R\\rangle$ and $\\langle L |$ boundary conditions depending on both the (parity of the) position and the type of operator $\\alpha, \\beta$.\n"
   ]
  },
  {
   "cell_type": "code",
   "execution_count": 6,
   "metadata": {},
   "outputs": [],
   "source": [
    "def col_transfer_mat(U):\n",
    "    #Construct column transfer matrix given a unitary\n",
    "    return np.einsum('amqe,bmnf,cpnj,dpqk->abcdefjk',np.conj(U),U,np.conj(U),U) / q\n",
    "\n",
    "def right_boundary(op):\n",
    "    return np.einsum('ad,bc->abcd',op,op)\n",
    "\n",
    "def left_boundary(op):\n",
    "    return np.einsum('ab,cd->abcd',op,op)\n",
    "\n",
    "def contract_mv(mat,vec):\n",
    "    return np.einsum('abcdefgh,efgh -> abcd',mat,vec)\n",
    "\n",
    "def contract_vv(vec_1,vec_2):\n",
    "    return np.einsum('abcd,abcd',vec_1,vec_2)"
   ]
  },
  {
   "cell_type": "markdown",
   "metadata": {},
   "source": [
    "We can explicitly check the time evolution for $\\sigma_x$ and $\\sigma_z$ ($\\sigma_y$ is als possible, but requires me to be more careful with complex conjugation).\n"
   ]
  },
  {
   "cell_type": "code",
   "execution_count": 7,
   "metadata": {},
   "outputs": [],
   "source": [
    "T = col_transfer_mat(U)\n",
    "\n",
    "Id = np.array([[1,0],[0,1]])\n",
    "X = np.array([[0,1], [1, 0]])\n",
    "Z = np.array([[1,0], [0, -1]])\n",
    "\n",
    "t_range = np.arange(10)\n",
    "\n",
    "R_Id = right_boundary(Id)\n",
    "L_Id = left_boundary(Id)\n",
    "\n",
    "def evol(U, op_L, op_R, n_t):\n",
    "    t_range = np.arange(n_t)\n",
    "    OTOC_range = np.zeros(n_t,dtype=complex)\n",
    "    \n",
    "    T = col_transfer_mat(U)\n",
    "    R = right_boundary(op_R)\n",
    "    L = left_boundary(op_L)\n",
    "    \n",
    "    vec_t = R\n",
    "    for t_i in t_range:\n",
    "        OTOC_range[t_i] = 1. - contract_vv(L,vec_t) / q\n",
    "        vec_new  = contract_mv(T,vec_t)\n",
    "        vec_t = vec_new\n",
    "    return [t_range,OTOC_range]"
   ]
  },
  {
   "cell_type": "markdown",
   "metadata": {},
   "source": [
    "# Kicked Ising model"
   ]
  },
  {
   "cell_type": "code",
   "execution_count": 12,
   "metadata": {},
   "outputs": [
    {
     "data": {
      "image/png": "[encoded data removed]",
      "text/plain": [
       "<Figure size 1080x720 with 1 Axes>"
      ]
     },
     "metadata": {
      "needs_background": "light"
     },
     "output_type": "display_data"
    }
   ],
   "source": [
    "U = gate_KIM()\n",
    "\n",
    "n_t = 15\n",
    "plt.figure()\n",
    "[t_range, OTOC_range] = evol(U, X, X, n_t)\n",
    "plt.plot(t_range,OTOC_range.real,'rx-')\n",
    "plt.xlabel(r'$t$')\n",
    "plt.show()"
   ]
  },
  {
   "cell_type": "code",
   "execution_count": 13,
   "metadata": {},
   "outputs": [
    {
     "data": {
      "image/png": "[encoded data removed]",
      "text/plain": [
       "<Figure size 1080x720 with 1 Axes>"
      ]
     },
     "metadata": {
      "needs_background": "light"
     },
     "output_type": "display_data"
    }
   ],
   "source": [
    "n_t = 30\n",
    "plt.figure()\n",
    "[t_range_xx, OTOC_range_xx] = evol(U, X, X, n_t)\n",
    "[t_range_zz, OTOC_range_zz] = evol(U, Z, Z, n_t)\n",
    "[t_range_zx, OTOC_range_zx] = evol(U, Z, X, n_t)\n",
    "\n",
    "plt.plot(t_range_xx,OTOC_range_xx.real,'x-',label=r'$xx$')\n",
    "plt.plot(t_range_zz,OTOC_range_zz.real,'x-',label=r'$zz$')\n",
    "plt.plot(t_range_zx,OTOC_range_zx.real,'x-',label=r'$zx$')\n",
    "\n",
    "plt.plot([0.]*n_t,'k:')\n",
    "plt.plot([1.]*n_t,'k:')\n",
    "plt.plot([2.]*n_t,'k:')\n",
    "plt.xlabel(r'$t$')\n",
    "plt.legend()\n",
    "plt.show()"
   ]
  },
  {
   "cell_type": "markdown",
   "metadata": {},
   "source": [
    "The long-time behaviour is fully determined by the eigenvectors with unit eigenvalue, and two/three of these can be explicitly constructed (representing unitarity, dual-unitarity, and an additional restriction similar to the action on a product state for the KIM)."
   ]
  },
  {
   "cell_type": "code",
   "execution_count": 14,
   "metadata": {},
   "outputs": [
    {
     "name": "stdout",
     "output_type": "stream",
     "text": [
      "Eigenvalues of T: \n",
      "\n",
      " [-2.9200e-02+2.3803e-15j -1.1857e-15-2.6749e-15j -9.3975e-17+4.0391e-17j\n",
      " -7.9847e-17-3.6766e-17j -2.9240e-17+6.1431e-17j -2.1397e-18-1.3584e-16j\n",
      "  3.9252e-17-3.0358e-18j  1.7176e-16-1.1179e-16j  2.3837e-16+1.7928e-16j\n",
      "  6.9671e-01-1.4401e-17j  6.9671e-01+1.6317e-16j  6.9671e-01-2.5757e-17j\n",
      "  6.9671e-01+1.7694e-16j  1.0000e+00+1.3010e-18j  1.0000e+00+4.2987e-18j\n",
      "  1.0000e+00-5.9445e-18j]\n",
      "\n",
      "Check known eigenstates:\n",
      "\n",
      " || (T-1) | e_i > || =  1.5277837981077533e-15\n",
      " || (T-1) | e_i > || =  1.605194353287073e-15\n",
      " || (T-1) | e_i > || =  1.4982835310665655e-15\n",
      "\n",
      "Check orthonormality of known eigenstates:\n",
      "\n",
      "[[ 1.0000e+00+4.3368e-19j  5.5511e-17+5.0077e-19j  5.5511e-17+5.4885e-18j]\n",
      " [ 5.5511e-17+5.0077e-19j  1.0000e+00+5.0596e-18j -1.3878e-17-1.1244e-18j]\n",
      " [ 5.5511e-17+5.4885e-18j -1.3878e-17-1.1244e-18j  1.0000e+00-8.0954e-18j]]\n"
     ]
    }
   ],
   "source": [
    "T = col_transfer_mat(U)\n",
    "\n",
    "[E,_] = np.linalg.eig(tensor_to_matrix(T))\n",
    "print(\"Eigenvalues of T: \\n\\n\", np.sort(E))\n",
    "\n",
    "\n",
    "#Check eigenstates\n",
    "print(\"\\nCheck known eigenstates:\\n\")\n",
    "e_1 = 1./q * np.einsum('abcdeffe->abcd',T)\n",
    "#print(\"<e_1 | e_1>\")\n",
    "#print(np.linalg.norm(np.einsum('abcdefgh,efgh -> abcd',T,e_1)-e_1))\n",
    "\n",
    "e_2 = 1./np.sqrt(q**2-1.)* ( np.einsum('abcdeeff->abcd',T) - 1./q * np.einsum('abcdeffe->abcd',T))\n",
    "#print('T |e_2> - |e_2>')\n",
    "#print(np.linalg.norm(np.einsum('abcdefgh,efgh -> abcd',T,e_2)-e_2))\n",
    "\n",
    "e_3 = (np.einsum('abcdeeee -> abcd',T) - e_1 - np.sqrt((q-1.)/(q+1.)) * e_2) * np.sqrt((q+1)/(q-1)) / np.sqrt(q)\n",
    "#print('T |e_3> - |e_3>')\n",
    "#print(np.linalg.norm(np.einsum('abcdefgh,efgh -> abcd',T,e_3)-e_3))\n",
    "\n",
    "eig_vecs = [e_1,e_2,e_3]\n",
    "\n",
    "for eig_vec in eig_vecs:\n",
    "    print(\" || (T-1) | e_i > || = \", np.linalg.norm(contract_mv(T,eig_vec)-eig_vec))\n",
    "\n",
    "#Check orthonormality\n",
    "ov = np.zeros([3,3], dtype=complex)\n",
    "for i, vec_i in enumerate(eig_vecs):\n",
    "    for j, vec_j in enumerate(eig_vecs):\n",
    "        ov[i,j] = contract_vv(vec_i,vec_j)\n",
    "        \n",
    "print(\"\\nCheck orthonormality of known eigenstates:\\n\")\n",
    "print(ov)"
   ]
  },
  {
   "cell_type": "code",
   "execution_count": 15,
   "metadata": {},
   "outputs": [
    {
     "data": {
      "image/png": "[encoded data removed]",
      "text/plain": [
       "<Figure size 1080x720 with 1 Axes>"
      ]
     },
     "metadata": {
      "needs_background": "light"
     },
     "output_type": "display_data"
    },
    {
     "name": "stdout",
     "output_type": "stream",
     "text": [
      "Final OTOC value:  (1.0000000000000002-2.0746164450961393e-18j)\n"
     ]
    }
   ],
   "source": [
    "op_L, op_R = X, X\n",
    "n_t = 25\n",
    "\n",
    "[t_range, OTOC_range] = evol(U, op_L, op_R, n_t)\n",
    "OTOC_f = 1. - np.sum([contract_vv(left_boundary(op_L),eig_vec)*contract_vv(eig_vec,right_boundary(op_R)) for eig_vec in eig_vecs])/q\n",
    "\n",
    "plt.figure()\n",
    "plt.plot(t_range,OTOC_range.real,'rx-')\n",
    "plt.plot(t_range,[OTOC_f.real]*n_t,'k--')\n",
    "#plt.plot(t_range,[q**2 / (q**2-1.)]*n_t,'k:')\n",
    "plt.show()\n",
    "\n",
    "print(\"Final OTOC value: \", OTOC_range[-1])\n",
    "#print(\"q^2/(q^2-1) = \", q**2 / (q**2-1.))"
   ]
  },
  {
   "cell_type": "markdown",
   "metadata": {},
   "source": [
    "The final values can be explicitly calculated for both the KIM and the more general dual-unitary circuit. For the KIM we get 1 for xx, 0 for zz, and 2 for zx (the difference follows entirely from the third eigenvalue, where the overlap depends explicitly on the boundary operators). The only non-trivial behaviour seems to be for xx. For the more general dual-unitary circuit we get q^2/(q^2-1) for all possible operators."
   ]
  },
  {
   "cell_type": "code",
   "execution_count": 18,
   "metadata": {},
   "outputs": [],
   "source": [
    "#Verify conservation law along the light cone for the KIM\n",
    "U = gate_KIM()\n",
    "s_2 = 0\n",
    "for s_1 in range(2):\n",
    "    for s_3 in range(2):\n",
    "        for a in range(2):\n",
    "            for b in range(2):\n",
    "                #print(\"(a,b) = \",a,b, \"(s_1,s_3)=\",s_1,s_3)\n",
    "                mat_el = U[b,0,s_3,s_2]*np.conj(U[a,0,s_1,s_2])+U[b,1,s_3,s_2]*np.conj(U[a,1,s_1,s_2]) \n",
    "                #print((a==b) * ( U[a,0,s_3,s_2]*np.conj(U[a,0,s_1,s_2]) + U[a,1,s_3,s_2]*np.conj(U[a,1,s_1,s_2])))\n",
    "                if((a!=b) and (np.abs(mat_el)>1e-10)):\n",
    "                    print(\"Error\")\n"
   ]
  },
  {
   "cell_type": "markdown",
   "metadata": {},
   "source": [
    "# General dual-unitary circuits"
   ]
  },
  {
   "cell_type": "code",
   "execution_count": 19,
   "metadata": {},
   "outputs": [
    {
     "data": {
      "image/png": "[encoded data removed]",
      "text/plain": [
       "<Figure size 1080x720 with 1 Axes>"
      ]
     },
     "metadata": {
      "needs_background": "light"
     },
     "output_type": "display_data"
    }
   ],
   "source": [
    "U = dual_unitary_gate(1.7,0.4)\n",
    "\n",
    "n_t = 30\n",
    "plt.figure()\n",
    "[t_range_xx, OTOC_range_xx] = evol(U, X, X, n_t)\n",
    "[t_range_zz, OTOC_range_zz] = evol(U, Z, Z, n_t)\n",
    "[t_range_zx, OTOC_range_zx] = evol(U, Z, X, n_t)\n",
    "\n",
    "plt.plot(t_range_xx,OTOC_range_xx.real,'x-',label=r'$xx$')\n",
    "plt.plot(t_range_zz,OTOC_range_zz.real,'x-',label=r'$zz$')\n",
    "plt.plot(t_range_zx,OTOC_range_zx.real,'x-',label=r'$zx$')\n",
    "plt.plot([q**2/(q**2-1.)]*n_t,'k:')\n",
    "plt.xlabel(r'$t$')\n",
    "plt.legend()\n",
    "plt.show()"
   ]
  },
  {
   "cell_type": "markdown",
   "metadata": {},
   "source": [
    "The column transfer matrix has two unity eigenvalues, and the steady-state value of the OTOC is $q^2/(q^2-1)$ for all operator combinations. "
   ]
  },
  {
   "cell_type": "code",
   "execution_count": 20,
   "metadata": {},
   "outputs": [
    {
     "name": "stdout",
     "output_type": "stream",
     "text": [
      "Eigenvalues of T: \n",
      "\n",
      " [-0.7697-4.3043e-17j -0.7697+1.2490e-16j -0.7697+8.3267e-17j\n",
      " -0.4685-5.2365e-01j -0.4685+5.2365e-01j -0.2578+6.6961e-17j\n",
      " -0.2578-7.0692e-17j -0.2578+3.0985e-17j  0.329 -1.3010e-17j\n",
      "  0.329 +1.1102e-16j  0.329 +3.1442e-16j  0.3303-3.2253e-01j\n",
      "  0.3303+3.2253e-01j  0.469 -1.2290e-17j  1.    +8.6194e-18j\n",
      "  1.    +3.4694e-17j]\n",
      "\n",
      "Check known eigenstates:\n",
      "\n",
      " || (T-1) | e_i > || =  9.077202070441055e-16\n",
      " || (T-1) | e_i > || =  7.318869012419707e-16\n",
      "\n",
      "Check orthonormality of known eigenstates:\n",
      "\n",
      "[[1.0000e+00-7.8198e-18j 1.6653e-16+1.5317e-17j]\n",
      " [1.6653e-16+1.5317e-17j 1.0000e+00-8.1134e-18j]]\n"
     ]
    }
   ],
   "source": [
    "T = col_transfer_mat(U)\n",
    "\n",
    "[E,_] = np.linalg.eig(tensor_to_matrix(T))\n",
    "print(\"Eigenvalues of T: \\n\\n\", np.sort(E))\n",
    "\n",
    "\n",
    "#Check eigenstates\n",
    "print(\"\\nCheck known eigenstates:\\n\")\n",
    "e_1 = 1./q * np.einsum('abcdeffe->abcd',T)\n",
    "\n",
    "e_2 = 1./np.sqrt(q**2-1.)* ( np.einsum('abcdeeff->abcd',T) - 1./q * np.einsum('abcdeffe->abcd',T))\n",
    "\n",
    "eig_vecs = [e_1,e_2]\n",
    "\n",
    "for eig_vec in eig_vecs:\n",
    "    print(\" || (T-1) | e_i > || = \", np.linalg.norm(contract_mv(T,eig_vec)-eig_vec))\n",
    "\n",
    "#Check orthonormality\n",
    "ov = np.zeros([2,2], dtype=complex)\n",
    "for i, vec_i in enumerate(eig_vecs):\n",
    "    for j, vec_j in enumerate(eig_vecs):\n",
    "        ov[i,j] = contract_vv(vec_i,vec_j)\n",
    "        \n",
    "print(\"\\nCheck orthonormality of known eigenstates:\\n\")\n",
    "print(ov)"
   ]
  },
  {
   "cell_type": "code",
   "execution_count": 21,
   "metadata": {},
   "outputs": [
    {
     "name": "stdout",
     "output_type": "stream",
     "text": [
      "Steady-state value from overlaps:  (1.3333333333333328-1.5248851805103406e-17j)\n"
     ]
    }
   ],
   "source": [
    "op_L, op_R = Z, Z\n",
    "OTOC_f = 1. - np.sum([contract_vv(left_boundary(op_L),eig_vec)*contract_vv(eig_vec,right_boundary(op_R)) for eig_vec in eig_vecs])/q\n",
    "print(\"Steady-state value from overlaps: \", OTOC_f)"
   ]
  },
  {
   "cell_type": "code",
   "execution_count": null,
   "metadata": {},
   "outputs": [],
   "source": []
  },
  {
   "cell_type": "code",
   "execution_count": null,
   "metadata": {},
   "outputs": [],
   "source": []
  }
 ],
 "metadata": {
  "kernelspec": {
   "display_name": "Python 3",
   "language": "python",
   "name": "python3"
  },
  "language_info": {
   "codemirror_mode": {
    "name": "ipython",
    "version": 3
   },
   "file_extension": ".py",
   "mimetype": "text/x-python",
   "name": "python",
   "nbconvert_exporter": "python",
   "pygments_lexer": "ipython3",
   "version": "3.7.3"
  }
 },
 "nbformat": 4,
 "nbformat_minor": 2
}
